{
 "cells": [
  {
   "cell_type": "markdown",
   "id": "afc1153b",
   "metadata": {},
   "source": [
    "# Loading"
   ]
  },
  {
   "cell_type": "code",
   "execution_count": 16,
   "id": "67ca924f",
   "metadata": {},
   "outputs": [],
   "source": [
    "\"\"\"import os is an import statement in Python that imports the os library. \n",
    "The os library (short for Operating System) provides a way for Python to interact with the underlying operating system, \n",
    "such as Windows, Linux, or MacOS.\n",
    "\"\"\"\n",
    "import os"
   ]
  },
  {
   "cell_type": "code",
   "execution_count": 18,
   "id": "32fc8d60",
   "metadata": {},
   "outputs": [],
   "source": [
    "# Defining the folder path where you want to save the csv file\n",
    "folder_path = \"C:/Users/ashut/Downloads\"\n",
    "\n",
    "# Check if the folder exist or not\n",
    "if not os.path.exists(folder_path):\n",
    "    os.makedirs(folder_path)\n",
    "\n",
    "# Convert DataFrame to CSV and save in the folder\n",
    "quotes_df.to_csv(folder_path + '/quotes_df.csv', index=False)"
   ]
  },
  {
   "cell_type": "code",
   "execution_count": null,
   "id": "1b2063ef",
   "metadata": {},
   "outputs": [],
   "source": []
  }
 ],
 "metadata": {
  "kernelspec": {
   "display_name": "Python 3 (ipykernel)",
   "language": "python",
   "name": "python3"
  },
  "language_info": {
   "codemirror_mode": {
    "name": "ipython",
    "version": 3
   },
   "file_extension": ".py",
   "mimetype": "text/x-python",
   "name": "python",
   "nbconvert_exporter": "python",
   "pygments_lexer": "ipython3",
   "version": "3.9.7"
  }
 },
 "nbformat": 4,
 "nbformat_minor": 5
}
