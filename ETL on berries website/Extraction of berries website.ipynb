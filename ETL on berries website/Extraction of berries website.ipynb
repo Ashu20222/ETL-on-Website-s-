{
 "cells": [
  {
   "cell_type": "markdown",
   "id": "fc8d280f",
   "metadata": {},
   "source": [
    "# Extraction "
   ]
  },
  {
   "cell_type": "markdown",
   "id": "0df46145",
   "metadata": {},
   "source": [
    "IN this part we are performing extraction part means extracting raw data from berries.com website"
   ]
  },
  {
   "cell_type": "markdown",
   "id": "a96806a8",
   "metadata": {},
   "source": [
    "### Importing require libraries "
   ]
  },
  {
   "cell_type": "code",
   "execution_count": 2,
   "id": "6e3be476",
   "metadata": {},
   "outputs": [],
   "source": [
    "\"\"\"the requests library allows you to programmatically access the content of a webpage by sending a request to \n",
    "the website's server, and it's commonly used in web scraping, web automation, and other related tasks.\"\"\"\n",
    "\n",
    "import requests  "
   ]
  },
  {
   "cell_type": "code",
   "execution_count": 3,
   "id": "f18efc1d",
   "metadata": {},
   "outputs": [],
   "source": [
    "\"\"\"from bs4 import BeautifulSoup is an import statement in Python that imports the BeautifulSoup class from the bs4 library (beautifulsoup4). \n",
    "The BeautifulSoup class is used to parse HTML and XML documents, \n",
    "and it provides a convenient and simple way to navigate, search, and modify the content of a webpage.\"\"\"\n",
    "\n",
    "from bs4 import BeautifulSoup"
   ]
  },
  {
   "cell_type": "code",
   "execution_count": 4,
   "id": "7d711a97",
   "metadata": {},
   "outputs": [],
   "source": [
    "\"\"\"the pandas library provides easy-to-use data structures and data analysis tools that make it a popular choice \n",
    "for data manipulation and analysis tasks, and the pd alias is used to refer to the library throughout the code.\"\"\"\n",
    "\n",
    "import pandas as pd"
   ]
  },
  {
   "cell_type": "code",
   "execution_count": 5,
   "id": "9f8f9734",
   "metadata": {},
   "outputs": [],
   "source": [
    "# Make a request to the website\n",
    "url = 'https://www.berries.com/blog/positive-quotes'\n",
    "response = requests.get(url)"
   ]
  },
  {
   "cell_type": "code",
   "execution_count": 6,
   "id": "435a5957",
   "metadata": {},
   "outputs": [],
   "source": [
    "# Parse the HTML content\n",
    "soup = BeautifulSoup(response.content, 'html.parser')"
   ]
  },
  {
   "cell_type": "code",
   "execution_count": 7,
   "id": "91064ac5",
   "metadata": {},
   "outputs": [],
   "source": [
    "# Find the desired elements on the page\n",
    "quotes = soup.find_all('p', class_='has-text-align-center filter-box-quote')\n",
    "authors = soup.find_all('p', class_='has-text-align-center filter-box-name')"
   ]
  },
  {
   "cell_type": "code",
   "execution_count": 11,
   "id": "81732a07",
   "metadata": {},
   "outputs": [
    {
     "data": {
      "text/plain": [
       "[<p class=\"has-text-align-center filter-box-quote\"><span>You’re braver than you believe, and stronger than you seem, and smarter than you think.</span></p>,\n",
       " <p class=\"has-text-align-center filter-box-quote\"><span><span>Keep your face to the sunshine and you cannot see a shadow.</span></span></p>,\n",
       " <p class=\"has-text-align-center filter-box-quote\"><span><span>In every day, there are 1,440 minutes. That means we have 1,440 daily opportunities to make a positive impact.</span></span></p>,\n",
       " <p class=\"has-text-align-center filter-box-quote\"><span><span>The only time you fail is when you fall down and stay down.</span></span></p>,\n",
       " <p class=\"has-text-align-center filter-box-quote\"><span><span>Positive anything is better than negative nothing.</span></span></p>,\n",
       " <p class=\"has-text-align-center filter-box-quote\"><span><span>Optimism is a happiness magnet. If you stay positive good things and good people will be drawn to you.</span></span></p>,\n",
       " <p class=\"has-text-align-center filter-box-quote\"><span><span>Happiness is an attitude. We either make ourselves miserable, or happy and strong. The amount of work is the same.</span></span></p>,\n",
       " <p class=\"has-text-align-center filter-box-quote\"><span><span>It’s not whether you get knocked down, it’s whether you get up.</span></span></p>,\n",
       " <p class=\"has-text-align-center filter-box-quote\"><span><span>The struggle you’re in today is developing the strength you need tomorrow.</span></span></p>,\n",
       " <p class=\"has-text-align-center filter-box-quote\"><span><span>Happiness is the only thing that multiplies when you share it.</span></span></p>,\n",
       " <p class=\"has-text-align-center filter-box-quote\"><span><span>The happiness of your life depends upon the quality of your thoughts.</span></span></p>,\n",
       " <p class=\"has-text-align-center filter-box-quote\"><span>Once you replace negative thoughts with positive ones, you’ll start having positive results.</span></p>,\n",
       " <p class=\"has-text-align-center filter-box-quote\"><span>Positive thinking will let you do everything better than negative thinking will.</span></p>,\n",
       " <p class=\"has-text-align-center filter-box-quote\"><span>The way I see it, if you want the rainbow, you gotta put up with the rain.</span></p>,\n",
       " <p class=\"has-text-align-center filter-box-quote\"><span>The more you praise and celebrate your life, the more there is in life to celebrate.</span></p>,\n",
       " <p class=\"has-text-align-center filter-box-quote\"><span>If you want light to come into your life, you need to stand where it is shining.</span></p>,\n",
       " <p class=\"has-text-align-center filter-box-quote\"><span>The good life is a process, not a state of being. It is a direction, not a destination.</span></p>,\n",
       " <p class=\"has-text-align-center filter-box-quote\"><span>A truly happy person is one who can enjoy the scenery while on a detour.</span></p>,\n",
       " <p class=\"has-text-align-center filter-box-quote\"><span>You’re off to great places, today is your day. Your mountain is waiting, so get on your way.</span></p>,\n",
       " <p class=\"has-text-align-center filter-box-quote\"><span>Winning doesn’t always mean being first. Winning means you’re doing better than you’ve done before.</span></p>,\n",
       " <p class=\"has-text-align-center filter-box-quote\"><span>Winning is fun, but those moments that you can touch someone’s life in a very positive way are better.</span></p>,\n",
       " <p class=\"has-text-align-center filter-box-quote\"><span>Virtually nothing is impossible in this world if you just put your mind to it and maintain a positive attitude.</span></p>,\n",
       " <p class=\"has-text-align-center filter-box-quote\"><span>You are never too old to set another goal or dream a new dream.</span></p>,\n",
       " <p class=\"has-text-align-center filter-box-quote\"><span>Every day may not be good… but there’s something good in every day.</span></p>,\n",
       " <p class=\"has-text-align-center filter-box-quote\"><span>The difference between ordinary and extraordinary is that little extra.</span></p>,\n",
       " <p class=\"has-text-align-center filter-box-quote\"><span>Be so happy that, when other people look at you, they become happy too.</span></p>,\n",
       " <p class=\"has-text-align-center filter-box-quote\"><span>No one is perfect – that’s why pencils have erasers.</span></p>,\n",
       " <p class=\"has-text-align-center filter-box-quote\"><span>No one is perfect – that’s why pencils have erasers.</span></p>,\n",
       " <p class=\"has-text-align-center filter-box-quote\"><span>Let your unique awesomeness and positive energy inspire confidence in others.</span></p>,\n",
       " <p class=\"has-text-align-center filter-box-quote\"><span>Wherever you go, no matter what the weather, always bring your own sunshine.</span></p>,\n",
       " <p class=\"has-text-align-center filter-box-quote\"><span>When we are open to new possibilities, we find them. Be open and skeptical of everything.</span></p>,\n",
       " <p class=\"has-text-align-center filter-box-quote\"><span>Live life to the fullest and focus on the positive.</span></p>,\n",
       " <p class=\"has-text-align-center filter-box-quote\"><span>You always pass failure on the way to success.</span></p>,\n",
       " <p class=\"has-text-align-center filter-box-quote\"><span>It always seems impossible until it is done.</span></p>,\n",
       " <p class=\"has-text-align-center filter-box-quote\"><span>When you are enthusiastic about what you do, you feel this positive energy. It’s very simple.</span></p>,\n",
       " <p class=\"has-text-align-center filter-box-quote\"><span>It makes a big difference in your life when you stay positive.</span></p>,\n",
       " <p class=\"has-text-align-center filter-box-quote\"><span>If opportunity doesn’t knock, build a door.</span></p>,\n",
       " <p class=\"has-text-align-center filter-box-quote\"><span>The sun himself is weak when he first rises, and gathers strength and courage as the day gets on.</span></p>,\n",
       " <p class=\"has-text-align-center filter-box-quote\"><span>Hard work keeps the wrinkles out of the mind and spirit.</span></p>,\n",
       " <p class=\"has-text-align-center filter-box-quote\"><span>Success is the sum of small efforts repeated day in and day out.</span></p>]"
      ]
     },
     "execution_count": 11,
     "metadata": {},
     "output_type": "execute_result"
    }
   ],
   "source": [
    "quotes"
   ]
  },
  {
   "cell_type": "markdown",
   "id": "5bef0e21",
   "metadata": {},
   "source": [
    "As we can see all raw data is extracted now time for transformation"
   ]
  },
  {
   "cell_type": "code",
   "execution_count": null,
   "id": "c4acd6ae",
   "metadata": {},
   "outputs": [],
   "source": []
  }
 ],
 "metadata": {
  "kernelspec": {
   "display_name": "Python 3 (ipykernel)",
   "language": "python",
   "name": "python3"
  },
  "language_info": {
   "codemirror_mode": {
    "name": "ipython",
    "version": 3
   },
   "file_extension": ".py",
   "mimetype": "text/x-python",
   "name": "python",
   "nbconvert_exporter": "python",
   "pygments_lexer": "ipython3",
   "version": "3.9.7"
  }
 },
 "nbformat": 4,
 "nbformat_minor": 5
}
