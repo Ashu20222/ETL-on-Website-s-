{
 "cells": [
  {
   "cell_type": "markdown",
   "id": "615f145b",
   "metadata": {},
   "source": [
    "# Transformation"
   ]
  },
  {
   "cell_type": "markdown",
   "id": "5ad6f5db",
   "metadata": {},
   "source": [
    "In this part we will transform extracted raw data"
   ]
  },
  {
   "cell_type": "code",
   "execution_count": 13,
   "id": "47966262",
   "metadata": {},
   "outputs": [],
   "source": [
    "# Extract the text from the elements\n",
    "quotes_list = [quote.text for quote in quotes]\n",
    "authors_list = [author.text for author in authors]"
   ]
  },
  {
   "cell_type": "markdown",
   "id": "34c57f84",
   "metadata": {},
   "source": [
    "In above operation we directly converted data into list format because we want data in column and raw format"
   ]
  },
  {
   "cell_type": "code",
   "execution_count": 14,
   "id": "415aaadf",
   "metadata": {},
   "outputs": [],
   "source": [
    "# Create a pandas DataFrame from the lists\n",
    "quotes_df = pd.DataFrame({'quotes': quotes_list, 'authors':authors_list})"
   ]
  },
  {
   "cell_type": "code",
   "execution_count": 15,
   "id": "ea42d508",
   "metadata": {},
   "outputs": [
    {
     "name": "stdout",
     "output_type": "stream",
     "text": [
      "                                               quotes              authors\n",
      "0   You’re braver than you believe, and stronger t...            A.A. Mine\n",
      "1   Keep your face to the sunshine and you cannot ...         Helen Keller\n",
      "2   In every day, there are 1,440 minutes. That me...            Les Brown\n",
      "3   The only time you fail is when you fall down a...     Stephen Richards\n",
      "4   Positive anything is better than negative noth...       Elbert Hubbard\n",
      "5   Optimism is a happiness magnet. If you stay po...      Mary Lou Retton\n",
      "6   Happiness is an attitude. We either make ourse...    Francesca Reigler\n",
      "7   It’s not whether you get knocked down, it’s wh...       Vince Lombardi\n",
      "8   The struggle you’re in today is developing the...           Robert Tew\n",
      "9   Happiness is the only thing that multiplies wh...    Albert Schweitzer\n",
      "10  The happiness of your life depends upon the qu...      Marcus Aurelius\n",
      "11  Once you replace negative thoughts with positi...        Willie Nelson\n",
      "12  Positive thinking will let you do everything b...           Zig Ziglar\n",
      "13  The way I see it, if you want the rainbow, you...         Dolly Parton\n",
      "14  The more you praise and celebrate your life, t...        Oprah Winfrey\n",
      "15  If you want light to come into your life, you ...           Guy Finley\n",
      "16  The good life is a process, not a state of bei...          Carl Rogers\n",
      "17  A truly happy person is one who can enjoy the ...            Anonymous\n",
      "18  You’re off to great places, today is your day....            Dr. Seuss\n",
      "19  Winning doesn’t always mean being first. Winni...         Bonnie Blair\n",
      "20  Winning is fun, but those moments that you can...           Tim Howard\n",
      "21  Virtually nothing is impossible in this world ...            Lou Holtz\n",
      "22  You are never too old to set another goal or d...            Les Brown\n",
      "23  Every day may not be good… but there’s somethi...    Alice Morse Earle\n",
      "24  The difference between ordinary and extraordin...        Jimmy Johnson\n",
      "25  Be so happy that, when other people look at yo...            Anonymous\n",
      "26  No one is perfect – that’s why pencils have er...       Wolfgang Riebe\n",
      "27  No one is perfect – that’s why pencils have er...       Wolfgang Riebe\n",
      "28  Let your unique awesomeness and positive energ...            Anonymous\n",
      "29  Wherever you go, no matter what the weather, a...  Anthony J. D’Angelo\n",
      "30  When we are open to new possibilities, we find...         Todd Kashdan\n",
      "31  Live life to the fullest and focus on the posi...         Matt Cameron\n",
      "32     You always pass failure on the way to success.        Mickey Rooney\n",
      "33       It always seems impossible until it is done.       Nelson Mandela\n",
      "34  When you are enthusiastic about what you do, y...         Paulo Coelho\n",
      "35  It makes a big difference in your life when yo...      Ellen DeGeneres\n",
      "36        If opportunity doesn’t knock, build a door.         Milton Berle\n",
      "37  The sun himself is weak when he first rises, a...      Charles Dickens\n",
      "38  Hard work keeps the wrinkles out of the mind a...    Helena Rubinstein\n",
      "39  Success is the sum of small efforts repeated d...       Robert Collier\n"
     ]
    }
   ],
   "source": [
    "# Print the DataFrame\n",
    "print(quotes_df)"
   ]
  },
  {
   "cell_type": "markdown",
   "id": "276ef51e",
   "metadata": {},
   "source": [
    "Now data is transformed in well and readable format ,time for loading"
   ]
  },
  {
   "cell_type": "code",
   "execution_count": null,
   "id": "f46aabd2",
   "metadata": {},
   "outputs": [],
   "source": []
  }
 ],
 "metadata": {
  "kernelspec": {
   "display_name": "Python 3 (ipykernel)",
   "language": "python",
   "name": "python3"
  },
  "language_info": {
   "codemirror_mode": {
    "name": "ipython",
    "version": 3
   },
   "file_extension": ".py",
   "mimetype": "text/x-python",
   "name": "python",
   "nbconvert_exporter": "python",
   "pygments_lexer": "ipython3",
   "version": "3.9.7"
  }
 },
 "nbformat": 4,
 "nbformat_minor": 5
}
